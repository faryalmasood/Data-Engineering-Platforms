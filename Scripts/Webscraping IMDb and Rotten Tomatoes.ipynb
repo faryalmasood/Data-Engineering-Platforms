{
 "cells": [
  {
   "cell_type": "markdown",
   "metadata": {},
   "source": [
    "# Web Scraping from IMDb and Rotten Tomatoes"
   ]
  },
  {
   "cell_type": "code",
   "execution_count": 1,
   "metadata": {},
   "outputs": [],
   "source": [
    "import pandas as pd"
   ]
  },
  {
   "cell_type": "code",
   "execution_count": 2,
   "metadata": {},
   "outputs": [],
   "source": [
    "#get all titles from static netflix data\n",
    "    netflix = pd.read_excel(\"/Users/abhiniti/OneDrive - The University of Chicago/Spring 2020/Data Engineering Platforms - MSCA 31012/Final Project/Netflix/tables_netflix.xlsx\")\n",
    "netflix_titles = [netflix[\"title\"]]\n",
    "netflix_df = pd.DataFrame(netflix_titles).transpose().drop_duplicates()\n",
    "#netflix_df"
   ]
  },
  {
   "cell_type": "code",
   "execution_count": 3,
   "metadata": {},
   "outputs": [],
   "source": [
    "#using imdbpy\n",
    "import imdb\n",
    "moviesDB = imdb.IMDb()"
   ]
  },
  {
   "cell_type": "code",
   "execution_count": 4,
   "metadata": {},
   "outputs": [],
   "source": [
    "#beautiful soup for Rotten Tomatoes\n",
    "from bs4 import BeautifulSoup\n",
    "import requests\n",
    "import re  # for url"
   ]
  },
  {
   "cell_type": "code",
   "execution_count": 5,
   "metadata": {},
   "outputs": [
    {
     "data": {
      "text/plain": [
       "3756"
      ]
     },
     "execution_count": 5,
     "metadata": {},
     "output_type": "execute_result"
    }
   ],
   "source": [
    "#get total count of titles\n",
    "count = pd.DataFrame(netflix_df).shape[0]\n",
    "count"
   ]
  },
  {
   "cell_type": "code",
   "execution_count": 6,
   "metadata": {},
   "outputs": [],
   "source": [
    "df=[]\n",
    "df = pd.DataFrame(columns = {\"title\", \"imdb_user_review\", \"imdb_critic_review\",\"tomato_critic_review\",\"tomato_user_review\"})\n",
    "columns = ['title', 'imdb_user_review', 'imdb_critic_review',\"tomato_critic_review\",\"tomato_user_review\"]\n",
    "data=[]\n",
    "\n",
    "for x in range(0, count):\n",
    "    #get title from netflix dataset\n",
    "    input_title = netflix_df.iloc[x][\"title\"]\n",
    "    #print(input_title)\n",
    "\n",
    "    ############search in IMDb    \n",
    "    try:\n",
    "        movies = moviesDB.search_movie(input_title)\n",
    "        id = movies[0].getID()\n",
    "        movie = moviesDB.get_movie(id,info=['main', 'plot', 'reviews', 'critic reviews'])\n",
    "        #get title\n",
    "        title = movie[\"title\"]\n",
    "        #get user review\n",
    "        try:\n",
    "            imdb_user_review = movie[\"rating\"]\n",
    "        except:\n",
    "            imdb_user_review = -999\n",
    "        #get critic review\n",
    "        try:\n",
    "            imdb_critic_review = movie[\"metascore\"]\n",
    "        except:\n",
    "            imdb_critic_review = -999\n",
    "            \n",
    "    except:\n",
    "        print(input_title + \" was not found on IMDb\")\n",
    "        \n",
    "    ############search in Rotten Tomatoes\n",
    "    try: \n",
    "        try: #first try in movies\n",
    "            tomato_url = \"https://www.rottentomatoes.com/m/\" + re.sub(':', '', re.sub(' ', '_', input_title))\n",
    "            soup = BeautifulSoup(requests.get(tomato_url).text)\n",
    "            try:\n",
    "                tomato_critic_review = soup.find('span', {'class': 'meter-value'}).contents[0]\n",
    "            except:\n",
    "                tomato_critic_review = -999\n",
    "            try:\n",
    "                tomato_user_review = soup.find('span', {'class': 'mop-ratings-wrap__percentage'}).contents[0]\n",
    "                tomato_user_review = tomato_user_review.replace(\"\\n\",\"\").replace(\" \",\"\").replace(\"%\",\"\")\n",
    "            except:\n",
    "                tomato_user_review = -999\n",
    "        except: #then try in tv shows\n",
    "            tomato_url = \"https://www.rottentomatoes.com/tv/\" + re.sub(':', '', re.sub(' ', '_', input_title))\n",
    "            soup = BeautifulSoup(requests.get(tomato_url).text)\n",
    "            try:\n",
    "                tomato_critic_review = soup.find('span', {'class': 'meter-value'}).contents[0]\n",
    "            except:\n",
    "                tomato_critic_review = -999\n",
    "            try:\n",
    "                tomato_user_review = soup.find('span', {'class': 'mop-ratings-wrap__percentage'}).contents[0]\n",
    "                tomato_user_review = tomato_user_review.replace(\"\\n\",\"\").replace(\" \",\"\").replace(\"%\",\"\")\n",
    "            except:\n",
    "                tomato_user_review = -999\n",
    "    except:\n",
    "        tomato_critic_review = -999\n",
    "        tomato_user_review = -999\n",
    "        print(input_title + \" was not found on Rotten Tomatoes\")\n",
    "    \n",
    "    #append to dataframe\n",
    "    values = [title,imdb_user_review,imdb_critic_review,tomato_critic_review,tomato_user_review]\n",
    "    zipped = zip(columns, values)\n",
    "    a_dictionary = dict(zipped)\n",
    "    data.append(a_dictionary)\n",
    "\n",
    "    \n",
    "#print(data)\n",
    "    \n",
    "    "
   ]
  },
  {
   "cell_type": "code",
   "execution_count": 7,
   "metadata": {},
   "outputs": [],
   "source": [
    "final = pd.DataFrame(data)"
   ]
  },
  {
   "cell_type": "code",
   "execution_count": 12,
   "metadata": {},
   "outputs": [
    {
     "data": {
      "text/html": [
       "<div>\n",
       "<style scoped>\n",
       "    .dataframe tbody tr th:only-of-type {\n",
       "        vertical-align: middle;\n",
       "    }\n",
       "\n",
       "    .dataframe tbody tr th {\n",
       "        vertical-align: top;\n",
       "    }\n",
       "\n",
       "    .dataframe thead th {\n",
       "        text-align: right;\n",
       "    }\n",
       "</style>\n",
       "<table border=\"1\" class=\"dataframe\">\n",
       "  <thead>\n",
       "    <tr style=\"text-align: right;\">\n",
       "      <th></th>\n",
       "      <th>title</th>\n",
       "      <th>imdb_user_review</th>\n",
       "      <th>tomato_user_review</th>\n",
       "    </tr>\n",
       "  </thead>\n",
       "  <tbody>\n",
       "    <tr>\n",
       "      <th>0</th>\n",
       "      <td>Norm of the North: King Sized Adventure</td>\n",
       "      <td>3.1</td>\n",
       "      <td>36</td>\n",
       "    </tr>\n",
       "    <tr>\n",
       "      <th>1</th>\n",
       "      <td>#REALITYHIGH</td>\n",
       "      <td>5.2</td>\n",
       "      <td>-999</td>\n",
       "    </tr>\n",
       "    <tr>\n",
       "      <th>2</th>\n",
       "      <td>Automata</td>\n",
       "      <td>6.1</td>\n",
       "      <td>30</td>\n",
       "    </tr>\n",
       "    <tr>\n",
       "      <th>3</th>\n",
       "      <td>Fabrizio Copano: Solo pienso en mi</td>\n",
       "      <td>4.9</td>\n",
       "      <td>-999</td>\n",
       "    </tr>\n",
       "    <tr>\n",
       "      <th>4</th>\n",
       "      <td>Good People</td>\n",
       "      <td>5.5</td>\n",
       "      <td>-999</td>\n",
       "    </tr>\n",
       "  </tbody>\n",
       "</table>\n",
       "</div>"
      ],
      "text/plain": [
       "                                     title  imdb_user_review  \\\n",
       "0  Norm of the North: King Sized Adventure               3.1   \n",
       "1                             #REALITYHIGH               5.2   \n",
       "2                                 Automata               6.1   \n",
       "3       Fabrizio Copano: Solo pienso en mi               4.9   \n",
       "4                              Good People               5.5   \n",
       "\n",
       "  tomato_user_review  \n",
       "0                 36  \n",
       "1               -999  \n",
       "2                 30  \n",
       "3               -999  \n",
       "4               -999  "
      ]
     },
     "execution_count": 12,
     "metadata": {},
     "output_type": "execute_result"
    }
   ],
   "source": [
    "final[[\"title\",\"imdb_user_review\",\"tomato_user_review\"]]"
   ]
  },
  {
   "cell_type": "code",
   "execution_count": 93,
   "metadata": {},
   "outputs": [],
   "source": [
    "final.to_csv('/Users/abhiniti/OneDrive - The University of Chicago/Spring 2020/Data Engineering Platforms - MSCA 31012/Final Project/Netflix/Step 2 Data Storage/reviews.csv')"
   ]
  },
  {
   "cell_type": "code",
   "execution_count": null,
   "metadata": {},
   "outputs": [],
   "source": []
  }
 ],
 "metadata": {
  "kernelspec": {
   "display_name": "Python 3",
   "language": "python",
   "name": "python3"
  },
  "language_info": {
   "codemirror_mode": {
    "name": "ipython",
    "version": 3
   },
   "file_extension": ".py",
   "mimetype": "text/x-python",
   "name": "python",
   "nbconvert_exporter": "python",
   "pygments_lexer": "ipython3",
   "version": "3.7.6"
  }
 },
 "nbformat": 4,
 "nbformat_minor": 4
}
